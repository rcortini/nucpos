{
 "cells": [
  {
   "cell_type": "code",
   "execution_count": null,
   "metadata": {},
   "outputs": [],
   "source": [
    "%matplotlib inline\n",
    "%load_ext autoreload\n",
    "%autoreload 2"
   ]
  },
  {
   "cell_type": "code",
   "execution_count": null,
   "metadata": {},
   "outputs": [],
   "source": [
    "import numpy as np\n",
    "import matplotlib.pyplot as plt\n",
    "import sys, os\n",
    "from nucleosome_positioning import NPBackend\n",
    "import triplib\n",
    "from Bio import SeqIO, Seq\n",
    "from Bio.Alphabet import IUPAC"
   ]
  },
  {
   "cell_type": "markdown",
   "metadata": {},
   "source": [
    "# 2018-02-12 Tompitak model\n",
    "Here I want to explore the possibility of using the bioinformatic model proposed by Tompiak et al. (BMC Bioinformatics (2017) 18:157 DOI 10.1186/s12859-017-1569-0) to evaluate the nucleosome positioning of sequences inserted in the Drosophila genome. The idea could be that maybe there is an effect due to this positioning signal in the expression of the TRIP reporters.\n",
    "\n",
    "## Preliminaries: functions to perform the analyses"
   ]
  },
  {
   "cell_type": "code",
   "execution_count": null,
   "metadata": {},
   "outputs": [],
   "source": [
    "nucpos_root_dir = '%s/work/CRG/projects/nucpos'%(os.getenv(\"HOME\"))"
   ]
  },
  {
   "cell_type": "code",
   "execution_count": null,
   "metadata": {},
   "outputs": [],
   "source": [
    "# define a function that inits the NP object which performs the calculations of the \n",
    "# probabilities, based on the \"order\" of the model and the \"model\".\n",
    "def init_NP(order, model) :\n",
    "    # constants\n",
    "    datadir = '%s/code/MarkovModel/Probabilities/Nucleosomes/Room_Temperature'%nucpos_root_dir\n",
    "    extensions = {1:'nucdist',2:'dinucdist',3:'trinucdist'}\n",
    "    # Load in the probability tensor for the 'long' oligonucleotides\n",
    "    filelong = '%s/%s.%s'%(datadir,model,extensions[order])\n",
    "    rshptuplong = (148-order,) + (4,)*order\n",
    "    Pl = np.genfromtxt(filelong).reshape(rshptuplong)\n",
    "    # Load the probability tensor for the 'short' oligonucleotides if necessary,\n",
    "    # otherwise init with order 1\n",
    "    if (order > 1):\n",
    "        fileshrt = '%s/%s.%s'%(datadir,model,extensions[order-1])\n",
    "        rshptupshrt = (149-order,) + (4,)*(order-1)\n",
    "        Ps = np.genfromtxt(fileshrt).reshape(rshptupshrt)\n",
    "        # Set up the backend\n",
    "        return NPBackend(order, 147, Pl, Ps)\n",
    "    else:\n",
    "        return NPBackend(order, 147, Pl)"
   ]
  },
  {
   "cell_type": "code",
   "execution_count": null,
   "metadata": {},
   "outputs": [],
   "source": [
    "# init with a given model\n",
    "orders = [2,3]\n",
    "models = ['MD_RoomTemp','Mixed_RoomTemp','Olson_RoomTemp']\n",
    "NP = {}\n",
    "for order in orders :\n",
    "    for model in models :\n",
    "        NP[(order,model)] = init_NP(order, model)"
   ]
  },
  {
   "cell_type": "code",
   "execution_count": null,
   "metadata": {},
   "outputs": [],
   "source": [
    "def load_sequence(seqfile,barcode) :\n",
    "    \"\"\"\n",
    "    Loads a sequence files and subsitutes the 20 barcode nucleotides with the\n",
    "    given 'barcode' sequence\n",
    "    \"\"\"\n",
    "    with open (seqfile, \"r\") as myfile:\n",
    "        seq = myfile.read()\n",
    "    return seq.replace(20*'N',barcode)"
   ]
  },
  {
   "cell_type": "markdown",
   "metadata": {},
   "source": [
    "## p8 promoter\n",
    "\n",
    "I'll start the analysis with the p8 promoter."
   ]
  },
  {
   "cell_type": "code",
   "execution_count": null,
   "metadata": {},
   "outputs": [],
   "source": [
    "# load the sequence to examine\n",
    "barcode_invented = 'ATGCTTTTTTGTACCCTGAA'\n",
    "sequences_dir = '%s/data/sequences'%(nucpos_root_dir)\n",
    "p8seq = load_sequence('%s/p8.seq'%(sequences_dir),barcode_invented)\n",
    "print p8seq"
   ]
  },
  {
   "cell_type": "markdown",
   "metadata": {},
   "source": [
    "We now proceed with a preliminary study: how does the different mechanical model of DNA and the \"order\" of the model affect the results, in terms of energy and probabilities of the configurations?"
   ]
  },
  {
   "cell_type": "code",
   "execution_count": null,
   "metadata": {},
   "outputs": [],
   "source": [
    "p = {}\n",
    "for order in orders :\n",
    "    for model in models :\n",
    "        p[(order,model)] = NP[(order,model)].ProbLandscape(p8seq)"
   ]
  },
  {
   "cell_type": "code",
   "execution_count": null,
   "metadata": {},
   "outputs": [],
   "source": [
    "nmodels = len(models)\n",
    "norders = len(orders)\n",
    "N = nmodels * norders"
   ]
  },
  {
   "cell_type": "code",
   "execution_count": null,
   "metadata": {},
   "outputs": [],
   "source": [
    "fig,axarr = plt.subplots(nmodels,norders,figsize=(15,9))\n",
    "for i,model in enumerate(models) :\n",
    "    for j,order in enumerate(orders) :\n",
    "        ax = axarr[i,j]\n",
    "        ax.semilogy(p[(order,model)])\n",
    "        ax.set_title('Order = %d Model = %s'%(order,model))"
   ]
  },
  {
   "cell_type": "markdown",
   "metadata": {},
   "source": [
    "So here I realize that the only things to compare are the \"Olson\" model and the \"Mixed\" models. The order doesn't matter very much, and the \"MD\" model is almost identical to the \"Mixed\" model.\n",
    "\n",
    "Next, I want to look at how the neighboring sequence will affect the results of this analysis. I'll load the Drosophila Melanogaster genome, and take my sequence and insert it at various points, to see the difference."
   ]
  },
  {
   "cell_type": "code",
   "execution_count": null,
   "metadata": {},
   "outputs": [],
   "source": [
    "# load the Drosophila genome (using Biopython)\n",
    "dm_genome_file = '/mnt/shared/seq/dm3R5/dmel-all-chromosome-r5.53_oneline.fasta'\n",
    "dm = SeqIO.index(dm_genome_file, 'fasta', alphabet=IUPAC.unambiguous_dna)"
   ]
  },
  {
   "cell_type": "code",
   "execution_count": null,
   "metadata": {},
   "outputs": [],
   "source": [
    "# get the sequence of the 2L chromosome, to start our investigation\n",
    "chr2L = dm['2L'].seq"
   ]
  },
  {
   "cell_type": "code",
   "execution_count": null,
   "metadata": {},
   "outputs": [],
   "source": [
    "# build the full sequence to analyze: left of \"cut_site\", inserted gene, \n",
    "# right of \"cut_site\"\n",
    "def sequence_with_insertion(genome,left,right,cut_site,insertion) :\n",
    "    return genome[cut_site-left:cut_site] +\\\n",
    "           insertion +\\\n",
    "           genome[cut_site:cut_site+right]"
   ]
  },
  {
   "cell_type": "code",
   "execution_count": null,
   "metadata": {},
   "outputs": [],
   "source": [
    "left = 2000\n",
    "right = 2000\n",
    "cut_sites = [10235,984540]\n",
    "sequences = {cut_site : sequence_with_insertion(chr2L,left,right,cut_site,p8seq)\\\n",
    "             for cut_site in cut_sites}"
   ]
  },
  {
   "cell_type": "code",
   "execution_count": null,
   "metadata": {},
   "outputs": [],
   "source": [
    "# now run the modelling of the probability that the sequence binds nucleosomes\n",
    "order = 2\n",
    "mymodels = ['Mixed_RoomTemp','Olson_RoomTemp']\n",
    "fullp = {}\n",
    "for cut_site in cut_sites :\n",
    "    for model in mymodels :\n",
    "        fullp[(cut_site,model)] = NP[(order,model)].ProbLandscape(sequences[cut_site])"
   ]
  },
  {
   "cell_type": "code",
   "execution_count": null,
   "metadata": {},
   "outputs": [],
   "source": [
    "xgene = np.arange(left,left+len(p8seq)-147+order-1)\n",
    "fig,axarr = plt.subplots(2,2,figsize=(15,5))\n",
    "for i,cut_site in enumerate(cut_sites) :\n",
    "    for j,model in enumerate(mymodels) :\n",
    "        ax = axarr[i,j]\n",
    "        ax.semilogy(fullp[(cut_site,model)])\n",
    "        ax.semilogy(xgene,p[(order,model)],'r')"
   ]
  },
  {
   "cell_type": "code",
   "execution_count": null,
   "metadata": {},
   "outputs": [],
   "source": [
    "def energy(probability,kT=1.0) :\n",
    "    return -kT * np.log(probability)"
   ]
  },
  {
   "cell_type": "code",
   "execution_count": null,
   "metadata": {},
   "outputs": [],
   "source": [
    "Egene = {}\n",
    "E = {}\n",
    "order = 2\n",
    "for model in mymodels :\n",
    "    Egene[model] = energy(p[(order,model)])\n",
    "    for cut_site in cut_sites :\n",
    "        E[(cut_site,model)] = energy(fullp[(cut_site,model)])"
   ]
  },
  {
   "cell_type": "code",
   "execution_count": null,
   "metadata": {},
   "outputs": [],
   "source": [
    "fig,axarr = plt.subplots(2,2,figsize=(15,5))\n",
    "for i,cut_site in enumerate(cut_sites) :\n",
    "    for j,model in enumerate(mymodels) :\n",
    "        ax = axarr[i,j]\n",
    "        ax.plot(E[(cut_site,model)])\n",
    "        ax.plot(xgene,Egene[model],'r')"
   ]
  },
  {
   "cell_type": "markdown",
   "metadata": {},
   "source": [
    "From this initial analysis there are a few things that emerge clearly. The clearest thing is that the neighboring sequences of the inserted gene do not have any effect on the probability/energy of the inserted gene. However, a crucial question remains: does the occupancy landscape change significantly? For this, I'll use Cédric's code to extract the occupancy profile from the energy profile. I'll save the energy profiles to files."
   ]
  },
  {
   "cell_type": "code",
   "execution_count": null,
   "metadata": {},
   "outputs": [],
   "source": [
    "# save files in a format that can be understood by Cédric's code\n",
    "data_dir = '%s/data'%(nucpos_root_dir)\n",
    "energy_profiles_dir = '%s/energy_profiles'%(data_dir)\n",
    "chromosome = 'chr2L'\n",
    "for key,profile in fullp.iteritems() :\n",
    "    cutsite,model = key\n",
    "    np.savetxt('%s/%s-%d-%d-%d-%s.dat'%(energy_profiles_dir,chromosome,cutsite,left,right,model),\n",
    "               E[(cut_site,model)]-1000)"
   ]
  },
  {
   "cell_type": "markdown",
   "metadata": {},
   "source": [
    "Now what remains to do is to feed the energy landscape to Cédric's code. However, this requires some additional workload because that code gives weird results, and is full of parameters, and I should find a way to invoke it from within here, otherwise it would become a real nightmare to deal with. Look at the pieces of code below, that I keep for the record.\n",
    "\n",
    "I'll leave this on hold for a moment, and work on another problem before: go for an abstraction layer for my data handling, because otherwise it's going to be really difficult to keep track of all the parameters and stuff."
   ]
  },
  {
   "cell_type": "code",
   "execution_count": null,
   "metadata": {},
   "outputs": [],
   "source": [
    "def load_density_profile(chromosome,cut_site,left,right,model,landscape,excluded_volume,cutoff) :\n",
    "    density_profiles_dir = '%s/density_profiles'%(data_dir)\n",
    "    density_profile_file = '%s/%s-%d-%d-%d-%s-%s-%d-%d.dat'%(density_profiles_dir,\n",
    "                                                             chromosome,\n",
    "                                                             cut_site,\n",
    "                                                             left,\n",
    "                                                             right,\n",
    "                                                             model,\n",
    "                                                             landscape,\n",
    "                                                             excluded_volume,\n",
    "                                                             cutoff)\n",
    "    return np.loadtxt(density_profile_file)"
   ]
  },
  {
   "cell_type": "code",
   "execution_count": null,
   "metadata": {},
   "outputs": [],
   "source": [
    "chromosome = 'chr2L'\n",
    "landscape = 'flat'\n",
    "model = 'Mixed_RoomTemp'\n",
    "cut_site = 984540\n",
    "# cut_site = 10235\n",
    "left = 2000\n",
    "right = 2000\n",
    "cutoff = 1\n",
    "excluded_volume = 133\n",
    "density_profiles = {}\n",
    "density_profile = load_density_profile(chromosome,cut_site,left,right,model,\n",
    "                                       landscape,excluded_volume,cutoff)"
   ]
  },
  {
   "cell_type": "code",
   "execution_count": null,
   "metadata": {},
   "outputs": [],
   "source": [
    "figure = plt.figure(figsize=(15,5))\n",
    "ax = plt.subplot(211)\n",
    "ax.plot(density_profile)\n",
    "ax.set_title('%s %d'%(landscape,cut_site))\n",
    "ax = plt.subplot(212)\n",
    "ax.plot(E[(cut_site,model)])"
   ]
  }
 ],
 "metadata": {
  "kernelspec": {
   "display_name": "Python 2",
   "language": "python",
   "name": "python2"
  },
  "language_info": {
   "codemirror_mode": {
    "name": "ipython",
    "version": 2
   },
   "file_extension": ".py",
   "mimetype": "text/x-python",
   "name": "python",
   "nbconvert_exporter": "python",
   "pygments_lexer": "ipython2"
  }
 },
 "nbformat": 4,
 "nbformat_minor": 2
}
