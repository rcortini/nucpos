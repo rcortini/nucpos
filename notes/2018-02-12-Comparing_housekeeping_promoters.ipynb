{
 "cells": [
  {
   "cell_type": "code",
   "execution_count": null,
   "metadata": {},
   "outputs": [],
   "source": [
    "%matplotlib inline\n",
    "%load_ext autoreload\n",
    "%autoreload 2"
   ]
  },
  {
   "cell_type": "code",
   "execution_count": null,
   "metadata": {},
   "outputs": [],
   "source": [
    "import numpy as np\n",
    "import matplotlib.pyplot as plt\n",
    "import sys, os\n",
    "import nucpos"
   ]
  },
  {
   "cell_type": "markdown",
   "metadata": {},
   "source": [
    "# Preliminaries\n",
    "Marc passed me the sequences of the other housekeeping promoters. I need to attach the other sequences and complete the insertion."
   ]
  },
  {
   "cell_type": "code",
   "execution_count": null,
   "metadata": {},
   "outputs": [],
   "source": [
    "barcode_invented = 'ATGGTGATGCGTATAGATCC'\n",
    "p8_sequence = nucpos.load_insertion('p8',barcode_invented)"
   ]
  },
  {
   "cell_type": "code",
   "execution_count": null,
   "metadata": {},
   "outputs": [],
   "source": [
    "promoters = {}\n",
    "for fname in os.listdir(nucpos.sequences_dir) :\n",
    "    if fname.endswith('.promoter') :\n",
    "        pname = fname.replace('.promoter','')\n",
    "        with open('%s/%s'%(nucpos.sequences_dir,fname),'r') as f :\n",
    "            pseq = f.read()\n",
    "        promoters[pname] = pseq\n",
    "        print len(pseq),pname"
   ]
  },
  {
   "cell_type": "code",
   "execution_count": null,
   "metadata": {},
   "outputs": [],
   "source": [
    "endGFP = len(p8_sequence)-290\n",
    "irdrL = p8_sequence[:290]\n",
    "gfp = p8_sequence[1298:endGFP]\n",
    "irdrR = p8_sequence[endGFP:]"
   ]
  },
  {
   "cell_type": "code",
   "execution_count": null,
   "metadata": {},
   "outputs": [],
   "source": [
    "print len(p8_sequence)"
   ]
  },
  {
   "cell_type": "code",
   "execution_count": null,
   "metadata": {},
   "outputs": [],
   "source": [
    "for pname,pseq in promoters.iteritems() :\n",
    "    sequence = irdrL + pseq + gfp + irdrR\n",
    "    with open('%s/%s.seq'%(nucpos.sequences_dir,pname),'w') as f :\n",
    "        f.write(sequence)"
   ]
  },
  {
   "cell_type": "markdown",
   "metadata": {},
   "source": [
    "# 2018-02-12 Comparing housekeeping promoters\n",
    "I want to look at differences between probability landscapes of different promoters."
   ]
  },
  {
   "cell_type": "code",
   "execution_count": null,
   "metadata": {},
   "outputs": [],
   "source": [
    "insertion_names = ['p8','p38','p39','p40','p9']\n",
    "insertions = {}\n",
    "for insertion_name in insertion_names :\n",
    "    sequence = nucpos.load_insertion(insertion_name,barcode_invented)\n",
    "    insertions[insertion_name] = nucpos.Sequence(sequence)"
   ]
  },
  {
   "cell_type": "code",
   "execution_count": null,
   "metadata": {},
   "outputs": [],
   "source": [
    "order = 3\n",
    "mechanical_model = 'MD'\n",
    "temperature = 'RoomTemp'\n",
    "fig = plt.figure(figsize=(15,3))\n",
    "colors = {n:'BLACK' for n in insertion_names}\n",
    "colors['p9'] = 'RED'\n",
    "x = np.arange(290,750)\n",
    "for name,insertion in insertions.iteritems() :\n",
    "    y = insertion.p(order,mechanical_model,temperature)\n",
    "    plt.semilogy(x,y[x],label=name,linewidth=3,\n",
    "                color=colors[name])\n",
    "plt.show()"
   ]
  },
  {
   "cell_type": "markdown",
   "metadata": {},
   "source": [
    "At the promoter level the differences in the occupancy profiles are not interesting enough to warrant to continue on this research line."
   ]
  }
 ],
 "metadata": {
  "kernelspec": {
   "display_name": "Python 2",
   "language": "python",
   "name": "python2"
  },
  "language_info": {
   "codemirror_mode": {
    "name": "ipython",
    "version": 2
   },
   "file_extension": ".py",
   "mimetype": "text/x-python",
   "name": "python",
   "nbconvert_exporter": "python",
   "pygments_lexer": "ipython2"
  }
 },
 "nbformat": 4,
 "nbformat_minor": 2
}
