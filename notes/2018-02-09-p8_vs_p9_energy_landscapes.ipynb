{
 "cells": [
  {
   "cell_type": "code",
   "execution_count": null,
   "metadata": {},
   "outputs": [],
   "source": [
    "%matplotlib inline\n",
    "%load_ext autoreload\n",
    "%autoreload 2"
   ]
  },
  {
   "cell_type": "code",
   "execution_count": null,
   "metadata": {},
   "outputs": [],
   "source": [
    "import numpy as np\n",
    "import matplotlib.pyplot as plt\n",
    "import sys, os\n",
    "import nucpos\n",
    "from Bio import SeqIO, Seq\n",
    "from Bio.Alphabet import IUPAC"
   ]
  },
  {
   "cell_type": "markdown",
   "metadata": {},
   "source": [
    "# 2018-02-09 p8 vs p9 energy landscapes\n",
    "\n",
    "I want to look at the differences between the probability landscapes of p8 and p9 promoter. In the meantime I want to look at the module I'm building.\n",
    "\n",
    "I'll start by playing around with the construction of a Sequence class, that I can use later to deal more effectively with data and parameters."
   ]
  },
  {
   "cell_type": "code",
   "execution_count": null,
   "metadata": {},
   "outputs": [],
   "source": [
    "dm_genome = nucpos.load_Drosophila_genome()"
   ]
  },
  {
   "cell_type": "code",
   "execution_count": null,
   "metadata": {},
   "outputs": [],
   "source": [
    "class Sequence(object) :\n",
    "    \n",
    "    def __init__(self,seq) :\n",
    "        if not isinstance(seq,basestring) :\n",
    "            raise TypeError('Init sequence with string!')\n",
    "        self.seq    = seq     # sequence\n",
    "        self._p     = {}      # probability density\n",
    "        self._E     = {}      # energy landscape\n",
    "        self.nuc    = {}      # nucleosome occupancy\n",
    "        \n",
    "    def p(self, order, mechanical_model, temperature) :\n",
    "        if not self._p.has_key((order, mechanical_model, temperature)) :\n",
    "            this_p = nucpos.probability_landscape(self.seq, order, mechanical_model, temperature)\n",
    "            self._p[(order,mechanical_model,temperature)] = this_p\n",
    "        return self._p[(order, mechanical_model, temperature)]\n",
    "    \n",
    "    def E(self, order, mechanical_model, temperature) :\n",
    "        if not self._E.has_key((order, mechanical_model, temperature)) :\n",
    "            this_E = nucpos.energy(self.p(order, mechanical_model, temperature))\n",
    "            self._E[(order,mechanical_model,temperature)] = this_E\n",
    "        return self._E[(order, mechanical_model, temperature)]"
   ]
  },
  {
   "cell_type": "code",
   "execution_count": null,
   "metadata": {},
   "outputs": [],
   "source": [
    "class InsertedSequence(Sequence) :\n",
    "    def __init__(self,seq,genome,chromosome,cut_site,\n",
    "                 left=nucpos.left,right=nucpos.right) :\n",
    "        # set class properties\n",
    "        self.chromosome = chromosome\n",
    "        self.cut_site = cut_site\n",
    "        self.left = left\n",
    "        self.right = right\n",
    "        # insert the sequence in the genome at requested position\n",
    "        c = genome[chromosome]\n",
    "        fullseq = c[cut_site-left:cut_site] + seq + c[cut_site:cut_site+right]\n",
    "        # invoke the parent class constructor\n",
    "        super(InsertedSequence, self).__init__(str(fullseq.seq))"
   ]
  },
  {
   "cell_type": "code",
   "execution_count": null,
   "metadata": {},
   "outputs": [],
   "source": [
    "barcode_invented = 'ATGGTGATGCGTATAGATCC'\n",
    "p8_sequence = nucpos.load_insertion('p8',barcode_invented)\n",
    "p8 = Sequence(p8_sequence)"
   ]
  },
  {
   "cell_type": "code",
   "execution_count": null,
   "metadata": {},
   "outputs": [],
   "source": [
    "# integrations = {}\n",
    "cut_site = 984587\n",
    "chromosome = '2L'\n",
    "# integrations[(cut_site,chromosome)] = InsertedSequence(p8_sequence,dm_genome,chromosome,cut_site)\n",
    "integration = InsertedSequence(p8_sequence,dm_genome,chromosome,cut_site)"
   ]
  },
  {
   "cell_type": "code",
   "execution_count": null,
   "metadata": {},
   "outputs": [],
   "source": [
    "mechanical_models = ['MD','Olson']\n",
    "temperature = 'RoomTemp'\n",
    "for mechanical_model in mechanical_models :\n",
    "    print integration.E(2, mechanical_model, temperature)"
   ]
  },
  {
   "cell_type": "code",
   "execution_count": null,
   "metadata": {},
   "outputs": [],
   "source": [
    "integration._p"
   ]
  },
  {
   "cell_type": "markdown",
   "metadata": {},
   "source": [
    "Okay this seems to be working well. Now let's start to look at some data."
   ]
  },
  {
   "cell_type": "code",
   "execution_count": null,
   "metadata": {},
   "outputs": [],
   "source": [
    "# load p8 and p9\n",
    "barcode_invented = 'ATGGTGATGCGTATAGATCC'\n",
    "p8_sequence = nucpos.load_insertion('p8',barcode_invented)\n",
    "p8 = Sequence(p8_sequence)\n",
    "p9_sequence = nucpos.load_insertion('p9',barcode_invented)\n",
    "p9 = Sequence(p9_sequence)"
   ]
  },
  {
   "cell_type": "code",
   "execution_count": null,
   "metadata": {},
   "outputs": [],
   "source": [
    "# annotate promoter for the two sequences\n",
    "p8.promoter = [290,1298]\n",
    "p9.promoter = [290,1298]\n",
    "p8.GFP = [1299,len(p8.seq)-290]\n",
    "p9.GFP = [1299,len(p9.seq)-290]"
   ]
  },
  {
   "cell_type": "code",
   "execution_count": null,
   "metadata": {},
   "outputs": [],
   "source": [
    "mechanical_models = ['MD','Olson']\n",
    "order = 2\n",
    "temperature = 'RoomTemp'\n",
    "fig,axarr = plt.subplots(2,2,figsize=(15,5))\n",
    "for i,seq in enumerate([p8,p9]) :\n",
    "    for j,mechanical_model in enumerate(mechanical_models) :\n",
    "        ax = axarr[i,j]\n",
    "        ax.semilogy(seq.p(order,mechanical_model,temperature))\n",
    "        x = np.arange(seq.promoter[0],seq.promoter[1])\n",
    "        ax.semilogy(x,seq.p(order,mechanical_model,temperature)[x],'r')\n",
    "        x = np.arange(seq.GFP[0],seq.GFP[1])\n",
    "        ax.semilogy(x,seq.p(order,mechanical_model,temperature)[x],'GREEN')"
   ]
  }
 ],
 "metadata": {
  "kernelspec": {
   "display_name": "Python 2",
   "language": "python",
   "name": "python2"
  },
  "language_info": {
   "codemirror_mode": {
    "name": "ipython",
    "version": 2
   },
   "file_extension": ".py",
   "mimetype": "text/x-python",
   "name": "python",
   "nbconvert_exporter": "python",
   "pygments_lexer": "ipython2"
  }
 },
 "nbformat": 4,
 "nbformat_minor": 2
}
